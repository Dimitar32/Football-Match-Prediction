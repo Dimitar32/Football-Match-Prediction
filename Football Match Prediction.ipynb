{
 "cells": [
  {
   "cell_type": "code",
   "execution_count": 1,
   "id": "1cb39287-8bd4-48a1-aab8-9a96b1981956",
   "metadata": {},
   "outputs": [],
   "source": [
    "import numpy as np\n",
    "import pandas as pd\n",
    "import requests\n",
    "import json\n",
    "import os\n",
    "import yaml"
   ]
  },
  {
   "cell_type": "markdown",
   "id": "ae4a6fa9-3745-497d-a7fa-320850c1323a",
   "metadata": {},
   "source": [
    "# Football Match Prediction"
   ]
  },
  {
   "cell_type": "markdown",
   "id": "56fb31fd-9592-4136-8482-8addc03ffaea",
   "metadata": {},
   "source": [
    "### Introduction\n",
    "The goal of this project is to develop a model for predicting the outcomes of football matches using mathematical techniques, specifically linear algebra and matrix operations. By analyzing various factors such as team statistics, player performance, and historical match results, the model aims to estimate the most likely outcome (win, loss, or draw) of a football match between two teams.\n"
   ]
  },
  {
   "cell_type": "code",
   "execution_count": 17,
   "id": "edecb684-3d1f-450e-b5f4-baf97fc1a48c",
   "metadata": {},
   "outputs": [
    {
     "name": "stdout",
     "output_type": "stream",
     "text": [
      "Файлът съществува: data/england/matches/2023-2024.txt\n"
     ]
    },
    {
     "ename": "ParserError",
     "evalue": "expected '<document start>', but found '<scalar>'\n  in \"data/england/matches/2023-2024.txt\", line 9, column 1",
     "output_type": "error",
     "traceback": [
      "\u001b[1;31m---------------------------------------------------------------------------\u001b[0m",
      "\u001b[1;31mParserError\u001b[0m                               Traceback (most recent call last)",
      "Cell \u001b[1;32mIn[17], line 14\u001b[0m\n\u001b[0;32m     12\u001b[0m \u001b[38;5;66;03m# Прочитане на YAML файл\u001b[39;00m\n\u001b[0;32m     13\u001b[0m \u001b[38;5;28;01mwith\u001b[39;00m \u001b[38;5;28mopen\u001b[39m(matches_file, \u001b[38;5;124m'\u001b[39m\u001b[38;5;124mr\u001b[39m\u001b[38;5;124m'\u001b[39m, encoding\u001b[38;5;241m=\u001b[39m\u001b[38;5;124m'\u001b[39m\u001b[38;5;124mutf-8\u001b[39m\u001b[38;5;124m'\u001b[39m) \u001b[38;5;28;01mas\u001b[39;00m f:\n\u001b[1;32m---> 14\u001b[0m     data \u001b[38;5;241m=\u001b[39m yaml\u001b[38;5;241m.\u001b[39msafe_load(f)\n\u001b[0;32m     16\u001b[0m \u001b[38;5;66;03m# Показване на първите 3 мача\u001b[39;00m\n\u001b[0;32m     17\u001b[0m \u001b[38;5;28;01mfor\u001b[39;00m match \u001b[38;5;129;01min\u001b[39;00m data[:\u001b[38;5;241m3\u001b[39m]:  \u001b[38;5;66;03m# Тук можеш да покажеш повече/по-малко мачове\u001b[39;00m\n",
      "File \u001b[1;32m~\\anaconda3\\Lib\\site-packages\\yaml\\__init__.py:125\u001b[0m, in \u001b[0;36msafe_load\u001b[1;34m(stream)\u001b[0m\n\u001b[0;32m    117\u001b[0m \u001b[38;5;28;01mdef\u001b[39;00m \u001b[38;5;21msafe_load\u001b[39m(stream):\n\u001b[0;32m    118\u001b[0m \u001b[38;5;250m    \u001b[39m\u001b[38;5;124;03m\"\"\"\u001b[39;00m\n\u001b[0;32m    119\u001b[0m \u001b[38;5;124;03m    Parse the first YAML document in a stream\u001b[39;00m\n\u001b[0;32m    120\u001b[0m \u001b[38;5;124;03m    and produce the corresponding Python object.\u001b[39;00m\n\u001b[1;32m   (...)\u001b[0m\n\u001b[0;32m    123\u001b[0m \u001b[38;5;124;03m    to be safe for untrusted input.\u001b[39;00m\n\u001b[0;32m    124\u001b[0m \u001b[38;5;124;03m    \"\"\"\u001b[39;00m\n\u001b[1;32m--> 125\u001b[0m     \u001b[38;5;28;01mreturn\u001b[39;00m load(stream, SafeLoader)\n",
      "File \u001b[1;32m~\\anaconda3\\Lib\\site-packages\\yaml\\__init__.py:81\u001b[0m, in \u001b[0;36mload\u001b[1;34m(stream, Loader)\u001b[0m\n\u001b[0;32m     79\u001b[0m loader \u001b[38;5;241m=\u001b[39m Loader(stream)\n\u001b[0;32m     80\u001b[0m \u001b[38;5;28;01mtry\u001b[39;00m:\n\u001b[1;32m---> 81\u001b[0m     \u001b[38;5;28;01mreturn\u001b[39;00m loader\u001b[38;5;241m.\u001b[39mget_single_data()\n\u001b[0;32m     82\u001b[0m \u001b[38;5;28;01mfinally\u001b[39;00m:\n\u001b[0;32m     83\u001b[0m     loader\u001b[38;5;241m.\u001b[39mdispose()\n",
      "File \u001b[1;32m~\\anaconda3\\Lib\\site-packages\\yaml\\constructor.py:49\u001b[0m, in \u001b[0;36mBaseConstructor.get_single_data\u001b[1;34m(self)\u001b[0m\n\u001b[0;32m     47\u001b[0m \u001b[38;5;28;01mdef\u001b[39;00m \u001b[38;5;21mget_single_data\u001b[39m(\u001b[38;5;28mself\u001b[39m):\n\u001b[0;32m     48\u001b[0m     \u001b[38;5;66;03m# Ensure that the stream contains a single document and construct it.\u001b[39;00m\n\u001b[1;32m---> 49\u001b[0m     node \u001b[38;5;241m=\u001b[39m \u001b[38;5;28mself\u001b[39m\u001b[38;5;241m.\u001b[39mget_single_node()\n\u001b[0;32m     50\u001b[0m     \u001b[38;5;28;01mif\u001b[39;00m node \u001b[38;5;129;01mis\u001b[39;00m \u001b[38;5;129;01mnot\u001b[39;00m \u001b[38;5;28;01mNone\u001b[39;00m:\n\u001b[0;32m     51\u001b[0m         \u001b[38;5;28;01mreturn\u001b[39;00m \u001b[38;5;28mself\u001b[39m\u001b[38;5;241m.\u001b[39mconstruct_document(node)\n",
      "File \u001b[1;32m~\\anaconda3\\Lib\\site-packages\\yaml\\composer.py:39\u001b[0m, in \u001b[0;36mComposer.get_single_node\u001b[1;34m(self)\u001b[0m\n\u001b[0;32m     36\u001b[0m     document \u001b[38;5;241m=\u001b[39m \u001b[38;5;28mself\u001b[39m\u001b[38;5;241m.\u001b[39mcompose_document()\n\u001b[0;32m     38\u001b[0m \u001b[38;5;66;03m# Ensure that the stream contains no more documents.\u001b[39;00m\n\u001b[1;32m---> 39\u001b[0m \u001b[38;5;28;01mif\u001b[39;00m \u001b[38;5;129;01mnot\u001b[39;00m \u001b[38;5;28mself\u001b[39m\u001b[38;5;241m.\u001b[39mcheck_event(StreamEndEvent):\n\u001b[0;32m     40\u001b[0m     event \u001b[38;5;241m=\u001b[39m \u001b[38;5;28mself\u001b[39m\u001b[38;5;241m.\u001b[39mget_event()\n\u001b[0;32m     41\u001b[0m     \u001b[38;5;28;01mraise\u001b[39;00m ComposerError(\u001b[38;5;124m\"\u001b[39m\u001b[38;5;124mexpected a single document in the stream\u001b[39m\u001b[38;5;124m\"\u001b[39m,\n\u001b[0;32m     42\u001b[0m             document\u001b[38;5;241m.\u001b[39mstart_mark, \u001b[38;5;124m\"\u001b[39m\u001b[38;5;124mbut found another document\u001b[39m\u001b[38;5;124m\"\u001b[39m,\n\u001b[0;32m     43\u001b[0m             event\u001b[38;5;241m.\u001b[39mstart_mark)\n",
      "File \u001b[1;32m~\\anaconda3\\Lib\\site-packages\\yaml\\parser.py:98\u001b[0m, in \u001b[0;36mParser.check_event\u001b[1;34m(self, *choices)\u001b[0m\n\u001b[0;32m     96\u001b[0m \u001b[38;5;28;01mif\u001b[39;00m \u001b[38;5;28mself\u001b[39m\u001b[38;5;241m.\u001b[39mcurrent_event \u001b[38;5;129;01mis\u001b[39;00m \u001b[38;5;28;01mNone\u001b[39;00m:\n\u001b[0;32m     97\u001b[0m     \u001b[38;5;28;01mif\u001b[39;00m \u001b[38;5;28mself\u001b[39m\u001b[38;5;241m.\u001b[39mstate:\n\u001b[1;32m---> 98\u001b[0m         \u001b[38;5;28mself\u001b[39m\u001b[38;5;241m.\u001b[39mcurrent_event \u001b[38;5;241m=\u001b[39m \u001b[38;5;28mself\u001b[39m\u001b[38;5;241m.\u001b[39mstate()\n\u001b[0;32m     99\u001b[0m \u001b[38;5;28;01mif\u001b[39;00m \u001b[38;5;28mself\u001b[39m\u001b[38;5;241m.\u001b[39mcurrent_event \u001b[38;5;129;01mis\u001b[39;00m \u001b[38;5;129;01mnot\u001b[39;00m \u001b[38;5;28;01mNone\u001b[39;00m:\n\u001b[0;32m    100\u001b[0m     \u001b[38;5;28;01mif\u001b[39;00m \u001b[38;5;129;01mnot\u001b[39;00m choices:\n",
      "File \u001b[1;32m~\\anaconda3\\Lib\\site-packages\\yaml\\parser.py:171\u001b[0m, in \u001b[0;36mParser.parse_document_start\u001b[1;34m(self)\u001b[0m\n\u001b[0;32m    169\u001b[0m version, tags \u001b[38;5;241m=\u001b[39m \u001b[38;5;28mself\u001b[39m\u001b[38;5;241m.\u001b[39mprocess_directives()\n\u001b[0;32m    170\u001b[0m \u001b[38;5;28;01mif\u001b[39;00m \u001b[38;5;129;01mnot\u001b[39;00m \u001b[38;5;28mself\u001b[39m\u001b[38;5;241m.\u001b[39mcheck_token(DocumentStartToken):\n\u001b[1;32m--> 171\u001b[0m     \u001b[38;5;28;01mraise\u001b[39;00m ParserError(\u001b[38;5;28;01mNone\u001b[39;00m, \u001b[38;5;28;01mNone\u001b[39;00m,\n\u001b[0;32m    172\u001b[0m             \u001b[38;5;124m\"\u001b[39m\u001b[38;5;124mexpected \u001b[39m\u001b[38;5;124m'\u001b[39m\u001b[38;5;124m<document start>\u001b[39m\u001b[38;5;124m'\u001b[39m\u001b[38;5;124m, but found \u001b[39m\u001b[38;5;132;01m%r\u001b[39;00m\u001b[38;5;124m\"\u001b[39m\n\u001b[0;32m    173\u001b[0m             \u001b[38;5;241m%\u001b[39m \u001b[38;5;28mself\u001b[39m\u001b[38;5;241m.\u001b[39mpeek_token()\u001b[38;5;241m.\u001b[39mid,\n\u001b[0;32m    174\u001b[0m             \u001b[38;5;28mself\u001b[39m\u001b[38;5;241m.\u001b[39mpeek_token()\u001b[38;5;241m.\u001b[39mstart_mark)\n\u001b[0;32m    175\u001b[0m token \u001b[38;5;241m=\u001b[39m \u001b[38;5;28mself\u001b[39m\u001b[38;5;241m.\u001b[39mget_token()\n\u001b[0;32m    176\u001b[0m end_mark \u001b[38;5;241m=\u001b[39m token\u001b[38;5;241m.\u001b[39mend_mark\n",
      "\u001b[1;31mParserError\u001b[0m: expected '<document start>', but found '<scalar>'\n  in \"data/england/matches/2023-2024.txt\", line 9, column 1"
     ]
    }
   ],
   "source": [
    "import os\n",
    "\n",
    "matches_file = \"data/england/matches/2023-2024.txt\"  # Актуализирайте пътя\n",
    "\n",
    "if os.path.exists(matches_file):\n",
    "    print(f\"Файлът съществува: {matches_file}\")\n",
    "else:\n",
    "    print(f\"Файлът не съществува: {matches_file}\")\n",
    "    \n",
    "import yaml\n",
    "\n",
    "# Прочитане на YAML файл\n",
    "with open(matches_file, 'r', encoding='utf-8') as f:\n",
    "    data = yaml.safe_load(f)\n",
    "\n",
    "# Показване на първите 3 мача\n",
    "for match in data[:3]:  # Тук можеш да покажеш повече/по-малко мачове\n",
    "    print(match)"
   ]
  },
  {
   "cell_type": "code",
   "execution_count": 13,
   "id": "688b9a6b-b3c5-47f4-989d-84445fe77a5a",
   "metadata": {},
   "outputs": [
    {
     "ename": "FileNotFoundError",
     "evalue": "[Errno 2] No such file or directory: './data/england/matches/2023-24.txt'",
     "output_type": "error",
     "traceback": [
      "\u001b[1;31m---------------------------------------------------------------------------\u001b[0m",
      "\u001b[1;31mFileNotFoundError\u001b[0m                         Traceback (most recent call last)",
      "Cell \u001b[1;32mIn[13], line 23\u001b[0m\n\u001b[0;32m     20\u001b[0m     \u001b[38;5;28;01mreturn\u001b[39;00m team_matches\n\u001b[0;32m     22\u001b[0m \u001b[38;5;66;03m# Пример за извикване на функцията\u001b[39;00m\n\u001b[1;32m---> 23\u001b[0m matches \u001b[38;5;241m=\u001b[39m get_team_matches(\u001b[38;5;124m\"\u001b[39m\u001b[38;5;124mLiverpool\u001b[39m\u001b[38;5;124m\"\u001b[39m, \u001b[38;5;124m\"\u001b[39m\u001b[38;5;124m2023-24\u001b[39m\u001b[38;5;124m\"\u001b[39m, \u001b[38;5;124m\"\u001b[39m\u001b[38;5;124mengland\u001b[39m\u001b[38;5;124m\"\u001b[39m)\n\u001b[0;32m     24\u001b[0m \u001b[38;5;28;01mfor\u001b[39;00m match \u001b[38;5;129;01min\u001b[39;00m matches:\n\u001b[0;32m     25\u001b[0m     \u001b[38;5;28mprint\u001b[39m(match)\n",
      "Cell \u001b[1;32mIn[13], line 6\u001b[0m, in \u001b[0;36mget_team_matches\u001b[1;34m(team_name, season, country)\u001b[0m\n\u001b[0;32m      3\u001b[0m matches_file \u001b[38;5;241m=\u001b[39m \u001b[38;5;124mf\u001b[39m\u001b[38;5;124m\"\u001b[39m\u001b[38;5;124m./data/\u001b[39m\u001b[38;5;132;01m{\u001b[39;00mcountry\u001b[38;5;132;01m}\u001b[39;00m\u001b[38;5;124m/matches/\u001b[39m\u001b[38;5;132;01m{\u001b[39;00mseason\u001b[38;5;132;01m}\u001b[39;00m\u001b[38;5;124m.txt\u001b[39m\u001b[38;5;124m\"\u001b[39m\n\u001b[0;32m      5\u001b[0m \u001b[38;5;66;03m# Отваряме YAML файла\u001b[39;00m\n\u001b[1;32m----> 6\u001b[0m \u001b[38;5;28;01mwith\u001b[39;00m \u001b[38;5;28mopen\u001b[39m(matches_file, \u001b[38;5;124m'\u001b[39m\u001b[38;5;124mr\u001b[39m\u001b[38;5;124m'\u001b[39m, encoding\u001b[38;5;241m=\u001b[39m\u001b[38;5;124m'\u001b[39m\u001b[38;5;124mutf-8\u001b[39m\u001b[38;5;124m'\u001b[39m) \u001b[38;5;28;01mas\u001b[39;00m f:\n\u001b[0;32m      7\u001b[0m     data \u001b[38;5;241m=\u001b[39m yaml\u001b[38;5;241m.\u001b[39msafe_load(f)\n\u001b[0;32m      9\u001b[0m \u001b[38;5;66;03m# Списък за мачовете на отборите\u001b[39;00m\n",
      "File \u001b[1;32m~\\anaconda3\\Lib\\site-packages\\IPython\\core\\interactiveshell.py:324\u001b[0m, in \u001b[0;36m_modified_open\u001b[1;34m(file, *args, **kwargs)\u001b[0m\n\u001b[0;32m    317\u001b[0m \u001b[38;5;28;01mif\u001b[39;00m file \u001b[38;5;129;01min\u001b[39;00m {\u001b[38;5;241m0\u001b[39m, \u001b[38;5;241m1\u001b[39m, \u001b[38;5;241m2\u001b[39m}:\n\u001b[0;32m    318\u001b[0m     \u001b[38;5;28;01mraise\u001b[39;00m \u001b[38;5;167;01mValueError\u001b[39;00m(\n\u001b[0;32m    319\u001b[0m         \u001b[38;5;124mf\u001b[39m\u001b[38;5;124m\"\u001b[39m\u001b[38;5;124mIPython won\u001b[39m\u001b[38;5;124m'\u001b[39m\u001b[38;5;124mt let you open fd=\u001b[39m\u001b[38;5;132;01m{\u001b[39;00mfile\u001b[38;5;132;01m}\u001b[39;00m\u001b[38;5;124m by default \u001b[39m\u001b[38;5;124m\"\u001b[39m\n\u001b[0;32m    320\u001b[0m         \u001b[38;5;124m\"\u001b[39m\u001b[38;5;124mas it is likely to crash IPython. If you know what you are doing, \u001b[39m\u001b[38;5;124m\"\u001b[39m\n\u001b[0;32m    321\u001b[0m         \u001b[38;5;124m\"\u001b[39m\u001b[38;5;124myou can use builtins\u001b[39m\u001b[38;5;124m'\u001b[39m\u001b[38;5;124m open.\u001b[39m\u001b[38;5;124m\"\u001b[39m\n\u001b[0;32m    322\u001b[0m     )\n\u001b[1;32m--> 324\u001b[0m \u001b[38;5;28;01mreturn\u001b[39;00m io_open(file, \u001b[38;5;241m*\u001b[39margs, \u001b[38;5;241m*\u001b[39m\u001b[38;5;241m*\u001b[39mkwargs)\n",
      "\u001b[1;31mFileNotFoundError\u001b[0m: [Errno 2] No such file or directory: './data/england/matches/2023-24.txt'"
     ]
    }
   ],
   "source": [
    "\n",
    "def get_team_matches(team_name, season, country='england'):\n",
    "    # Път до YAML файла за мачове в сезона\n",
    "    matches_file = f\"./data/{country}/matches/{season}.txt\"\n",
    "    \n",
    "    # Отваряме YAML файла\n",
    "    with open(matches_file, 'r', encoding='utf-8') as f:\n",
    "        data = yaml.safe_load(f)\n",
    "    \n",
    "    # Списък за мачовете на отборите\n",
    "    team_matches = []\n",
    "    \n",
    "    # Преглеждаме всеки кръг и мач\n",
    "    for round in data:\n",
    "        for match in round.values():\n",
    "            for line in match:\n",
    "                # Проверяваме дали даден отбор е част от мача\n",
    "                if team_name in line:\n",
    "                    team_matches.append(line)\n",
    "    \n",
    "    return team_matches\n",
    "\n",
    "# Пример за извикване на функцията\n",
    "matches = get_team_matches(\"Liverpool\", \"2023-24\", \"england\")\n",
    "for match in matches:\n",
    "    print(match)"
   ]
  },
  {
   "cell_type": "code",
   "execution_count": 6,
   "id": "8017a3c2-d4ab-4a5f-84a4-91154f976acb",
   "metadata": {},
   "outputs": [
    {
     "ename": "FileNotFoundError",
     "evalue": "[WinError 3] The system cannot find the path specified: 'path/to/datasets'",
     "output_type": "error",
     "traceback": [
      "\u001b[1;31m---------------------------------------------------------------------------\u001b[0m",
      "\u001b[1;31mFileNotFoundError\u001b[0m                         Traceback (most recent call last)",
      "Cell \u001b[1;32mIn[6], line 59\u001b[0m\n\u001b[0;32m     57\u001b[0m team_name \u001b[38;5;241m=\u001b[39m \u001b[38;5;124m'\u001b[39m\u001b[38;5;124mManchester United\u001b[39m\u001b[38;5;124m'\u001b[39m  \u001b[38;5;66;03m# Replace with the team you're searching for\u001b[39;00m\n\u001b[0;32m     58\u001b[0m datasets_folder \u001b[38;5;241m=\u001b[39m \u001b[38;5;124m'\u001b[39m\u001b[38;5;124mpath/to/datasets\u001b[39m\u001b[38;5;124m'\u001b[39m  \u001b[38;5;66;03m# Replace with the path to your folder containing the JSON files\u001b[39;00m\n\u001b[1;32m---> 59\u001b[0m team_info \u001b[38;5;241m=\u001b[39m search_team_by_name(team_name, datasets_folder)\n\u001b[0;32m     61\u001b[0m \u001b[38;5;28;01mif\u001b[39;00m \u001b[38;5;28misinstance\u001b[39m(team_info, \u001b[38;5;28mdict\u001b[39m):\n\u001b[0;32m     62\u001b[0m     \u001b[38;5;28mprint\u001b[39m(\u001b[38;5;124mf\u001b[39m\u001b[38;5;124m\"\u001b[39m\u001b[38;5;124mTeam: \u001b[39m\u001b[38;5;132;01m{\u001b[39;00mteam_info[\u001b[38;5;124m'\u001b[39m\u001b[38;5;124mteam_name\u001b[39m\u001b[38;5;124m'\u001b[39m]\u001b[38;5;132;01m}\u001b[39;00m\u001b[38;5;124m\"\u001b[39m)\n",
      "Cell \u001b[1;32mIn[6], line 7\u001b[0m, in \u001b[0;36msearch_team_by_name\u001b[1;34m(team_name, datasets_folder)\u001b[0m\n\u001b[0;32m      4\u001b[0m team_name_lower \u001b[38;5;241m=\u001b[39m team_name\u001b[38;5;241m.\u001b[39mlower()  \u001b[38;5;66;03m# Convert input to lowercase for case-insensitive comparison\u001b[39;00m\n\u001b[0;32m      6\u001b[0m \u001b[38;5;66;03m# Loop through each file in the datasets folder\u001b[39;00m\n\u001b[1;32m----> 7\u001b[0m \u001b[38;5;28;01mfor\u001b[39;00m filename \u001b[38;5;129;01min\u001b[39;00m os\u001b[38;5;241m.\u001b[39mlistdir(datasets_folder):\n\u001b[0;32m      8\u001b[0m     \u001b[38;5;28;01mif\u001b[39;00m filename\u001b[38;5;241m.\u001b[39mendswith(\u001b[38;5;124m'\u001b[39m\u001b[38;5;124m.json\u001b[39m\u001b[38;5;124m'\u001b[39m):\n\u001b[0;32m      9\u001b[0m         file_path \u001b[38;5;241m=\u001b[39m os\u001b[38;5;241m.\u001b[39mpath\u001b[38;5;241m.\u001b[39mjoin(datasets_folder, filename)\n",
      "\u001b[1;31mFileNotFoundError\u001b[0m: [WinError 3] The system cannot find the path specified: 'path/to/datasets'"
     ]
    }
   ],
   "source": [
    "\n",
    "# Function to search for a team by name across multiple league datasets\n",
    "def search_team_by_name(team_name, datasets_folder):\n",
    "    team_data = None  # Variable to store the team data if found\n",
    "    team_name_lower = team_name.lower()  # Convert input to lowercase for case-insensitive comparison\n",
    "\n",
    "    # Loop through each file in the datasets folder\n",
    "    for filename in os.listdir(datasets_folder):\n",
    "        if filename.endswith('.json'):\n",
    "            file_path = os.path.join(datasets_folder, filename)\n",
    "            \n",
    "            with open(file_path) as f:\n",
    "                data = json.load(f)\n",
    "                \n",
    "                # Loop through all match rounds in the dataset\n",
    "                for round_data in data['matches']:\n",
    "                    for match in round_data['matches']:\n",
    "                        home_team = match['team1']\n",
    "                        away_team = match['team2']\n",
    "                        date = match['date']\n",
    "                        home_score = match['score']['ft']['team1']\n",
    "                        away_score = match['score']['ft']['team2']\n",
    "\n",
    "                        # Check if the team is the home team or away team\n",
    "                        if home_team.lower() == team_name_lower:\n",
    "                            team_data = {\n",
    "                                'team_name': home_team,\n",
    "                                'opponent': away_team,\n",
    "                                'date': date,\n",
    "                                'score': f\"{home_score} - {away_score}\",\n",
    "                                'league': filename.replace('.json', '')  # Extract league name from the filename\n",
    "                            }\n",
    "                            break  # Break out of the loop once we find the team\n",
    "\n",
    "                        elif away_team.lower() == team_name_lower:\n",
    "                            team_data = {\n",
    "                                'team_name': away_team,\n",
    "                                'opponent': home_team,\n",
    "                                'date': date,\n",
    "                                'score': f\"{away_score} - {home_score}\",\n",
    "                                'league': filename.replace('.json', '')  # Extract league name from the filename\n",
    "                            }\n",
    "                            break  # Break out of the loop once we find the team\n",
    "\n",
    "                    if team_data:\n",
    "                        break  # Exit the loop if team is found\n",
    "\n",
    "        if team_data:\n",
    "            break  # Exit the outer loop once team is found\n",
    "\n",
    "    # Return the found team data or a message if not found\n",
    "    if team_data:\n",
    "        return team_data\n",
    "    else:\n",
    "        return f\"Team '{team_name}' not found in any dataset.\"\n",
    "\n",
    "# Example usage:\n",
    "team_name = 'Manchester United'  # Replace with the team you're searching for\n",
    "datasets_folder = 'path/to/datasets'  # Replace with the path to your folder containing the JSON files\n",
    "team_info = search_team_by_name(team_name, datasets_folder)\n",
    "\n",
    "if isinstance(team_info, dict):\n",
    "    print(f\"Team: {team_info['team_name']}\")\n",
    "    print(f\"Opponent: {team_info['opponent']}\")\n",
    "    print(f\"Date: {team_info['date']}\")\n",
    "    print(f\"Score: {team_info['score']}\")\n",
    "    print(f\"League: {team_info['league']}\")\n",
    "else:\n",
    "    print(team_info)"
   ]
  },
  {
   "cell_type": "code",
   "execution_count": 43,
   "id": "c7e8dc26-e593-4c26-9754-3572609c8bb0",
   "metadata": {},
   "outputs": [],
   "source": [
    "# Function for getting team id by name for using it \n",
    "def get_team_id_by_name(team_name, api_key):\n",
    "    url = f\"https://v3.football.api-sports.io/teams?search={team_name}\"\n",
    "\n",
    "    headers = {\n",
    "        \"x-rapidapi-key\": api_key,\n",
    "        \"x-rapidapi-host\": \"v3.football.api-sports.io\"\n",
    "    }\n",
    "\n",
    "    response = requests.get(url, headers=headers)\n",
    "\n",
    "    if response.status_code == 200:\n",
    "        data = response.json()\n",
    "        if data[\"results\"] > 0:\n",
    "            team_id = data[\"response\"][0][\"team\"][\"id\"]\n",
    "            return team_id\n",
    "        else:\n",
    "            return None  # Team not found\n",
    "    else:\n",
    "        print(f\"Error: {response.status_code}\")\n",
    "        return None\n",
    "\n",
    "# Usage example:\n",
    "# api_key = \"f27a22f13747e86db3d869c26b306756\"  # Replace with your API key\n",
    "# team_name1 = \"Levski Sofia\"\n",
    "# team_name2 = \"Real Madrid\"\n",
    "# team_id1 = get_team_id_by_name(team_name1, api_key)\n",
    "# team_id2 = get_team_id_by_name(team_name2, api_key)\n",
    "# print(team_id1, team_id2)\n",
    "\n"
   ]
  },
  {
   "cell_type": "code",
   "execution_count": 51,
   "id": "8a4e4405-8b09-4cd5-901c-670573af38f4",
   "metadata": {},
   "outputs": [
    {
     "name": "stdout",
     "output_type": "stream",
     "text": [
      "None\n"
     ]
    }
   ],
   "source": [
    "# Function to get the last 5 matches of a team\n",
    "def get_last_5_matches(api_key, team_id):\n",
    "    url = f\"https://v3.football.api-sports.io/teams?search={team_name}\"\n",
    "\n",
    "    # Headers for the request\n",
    "    headers = {\n",
    "        \"x-rapidapi-key\": api_key,\n",
    "        \"x-rapidapi-host\": \"v3.football.api-sports.io\"\n",
    "    }\n",
    "\n",
    "    # Send request to API\n",
    "    response = requests.get(f'{url}?team={team_id}', headers=headers)\n",
    "\n",
    "    if response.status_code == 200:\n",
    "        # Get the JSON response\n",
    "        matches = response.json()['response']\n",
    "        \n",
    "        # Sort matches by date (from most recent to oldest)\n",
    "        matches.sort(key=lambda x: x['fixture']['date'], reverse=True)\n",
    "        \n",
    "        # Get the last 5 matches\n",
    "        last_5_matches = matches[:5]\n",
    "        \n",
    "        # Display the last 5 matches\n",
    "        for match in last_5_matches:\n",
    "            home_team = match['teams']['home']['name']\n",
    "            away_team = match['teams']['away']['name']\n",
    "            date = match['fixture']['date']\n",
    "            # Determine which team is the home team or away team and get the score\n",
    "            if match['teams']['home']['id'] == team_id:\n",
    "                score = f\"{match['goals']['home']} - {match['goals']['away']}\"\n",
    "            else:\n",
    "                score = f\"{match['goals']['away']} - {match['goals']['home']}\"\n",
    "            \n",
    "            print(f\"{home_team} vs {away_team} - Date: {date} - Score: {score}\")\n",
    "    else:\n",
    "        print(f\"Error fetching data: {response.status_code}\")\n",
    "\n",
    "# Usage example:\n",
    "api_key = \"f27a22f13747e86db3d869c26b306756\"  # Replace with your API key\n",
    "team_name1 = \"Levski Sofia\"\n",
    "team_name2 = \"Real Madrid\"\n",
    "team_id1 = get_team_id_by_name(team_name1, api_key)\n",
    "team_id2 = get_team_id_by_name(team_name2, api_key)\n",
    "print(get_last_5_matches(api_key, team_id2))\n"
   ]
  },
  {
   "cell_type": "code",
   "execution_count": 11,
   "id": "6cacde7a-544d-44e9-8884-0c100db982f5",
   "metadata": {},
   "outputs": [],
   "source": [
    "# Функция за получаване на данни за даден отбор\n",
    "def get_team_data(team_name):\n",
    "    url = f\"https://api.football-data.org/v2/teams/{team_name}\"  # API URL за даден отбор\n",
    "    headers = {\"X-Auth-Token\": \"YOUR_API_KEY\"}  # Заменете с вашия API ключ\n",
    "\n",
    "    response = requests.get(url, headers=headers)\n",
    "\n",
    "    if response.status_code == 200:\n",
    "        team_data = response.json()\n",
    "        # Примерни данни, които можеш да вземеш от отговора на API-то\n",
    "        # Тук взимаме атака и защита (но може да варира в зависимост от структурата на данните)\n",
    "        attack = team_data['squad'][0]['attack']  # Примерен ключ\n",
    "        defense = team_data['squad'][0]['defense']  # Примерен ключ\n",
    "        return attack, defense\n",
    "    else:\n",
    "        return None\n"
   ]
  },
  {
   "cell_type": "code",
   "execution_count": 13,
   "id": "f919e416-4719-4545-8fa9-7adb2162d70f",
   "metadata": {},
   "outputs": [],
   "source": [
    "# Функция за вземане на мачовете между два отбора\n",
    "def get_head_to_head_matches(team1_name, team2_name):\n",
    "    # Заявка за извличане на данни за мачовете между двата отбора\n",
    "    url = f\"https://api.football-data.org/v2/matches\"\n",
    "    headers = {\"X-Auth-Token\": \"YOUR_API_KEY\"}  # Заменете с вашия API ключ\n",
    "\n",
    "    response = requests.get(url, headers=headers)\n",
    "\n",
    "    if response.status_code == 200:\n",
    "        match_data = response.json()\n",
    "        \n",
    "        # Филтриране на мачовете между двата отбора\n",
    "        matches = []\n",
    "        for match in match_data['matches']:\n",
    "            if (match['homeTeam']['name'] == team1_name and match['awayTeam']['name'] == team2_name) or \\\n",
    "               (match['homeTeam']['name'] == team2_name and match['awayTeam']['name'] == team1_name):\n",
    "                matches.append(match)\n",
    "        \n",
    "        return matches\n",
    "    else:\n",
    "        print(\"Error fetching data:\", response.status_code)\n",
    "        return None"
   ]
  },
  {
   "cell_type": "code",
   "execution_count": null,
   "id": "b66b530e-8a3f-491b-bf6c-37115895fc50",
   "metadata": {},
   "outputs": [],
   "source": []
  }
 ],
 "metadata": {
  "kernelspec": {
   "display_name": "Python [conda env:base] *",
   "language": "python",
   "name": "conda-base-py"
  },
  "language_info": {
   "codemirror_mode": {
    "name": "ipython",
    "version": 3
   },
   "file_extension": ".py",
   "mimetype": "text/x-python",
   "name": "python",
   "nbconvert_exporter": "python",
   "pygments_lexer": "ipython3",
   "version": "3.12.7"
  }
 },
 "nbformat": 4,
 "nbformat_minor": 5
}
