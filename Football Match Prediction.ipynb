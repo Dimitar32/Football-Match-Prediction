{
 "cells": [
  {
   "cell_type": "code",
   "execution_count": 21,
   "id": "1cb39287-8bd4-48a1-aab8-9a96b1981956",
   "metadata": {},
   "outputs": [],
   "source": [
    "import numpy as np\n",
    "import pandas as pd\n",
    "import requests"
   ]
  },
  {
   "cell_type": "markdown",
   "id": "ae4a6fa9-3745-497d-a7fa-320850c1323a",
   "metadata": {},
   "source": [
    "# Football Match Prediction"
   ]
  },
  {
   "cell_type": "markdown",
   "id": "56fb31fd-9592-4136-8482-8addc03ffaea",
   "metadata": {},
   "source": [
    "### Introduction\n",
    "The goal of this project is to develop a model for predicting the outcomes of football matches using mathematical techniques, specifically linear algebra and matrix operations. By analyzing various factors such as team statistics, player performance, and historical match results, the model aims to estimate the most likely outcome (win, loss, or draw) of a football match between two teams.\n"
   ]
  },
  {
   "cell_type": "code",
   "execution_count": 43,
   "id": "c7e8dc26-e593-4c26-9754-3572609c8bb0",
   "metadata": {},
   "outputs": [],
   "source": [
    "# Function for getting team id by name for using it \n",
    "def get_team_id_by_name(team_name, api_key):\n",
    "    url = f\"https://v3.football.api-sports.io/teams?search={team_name}\"\n",
    "\n",
    "    headers = {\n",
    "        \"x-rapidapi-key\": api_key,\n",
    "        \"x-rapidapi-host\": \"v3.football.api-sports.io\"\n",
    "    }\n",
    "\n",
    "    response = requests.get(url, headers=headers)\n",
    "\n",
    "    if response.status_code == 200:\n",
    "        data = response.json()\n",
    "        if data[\"results\"] > 0:\n",
    "            team_id = data[\"response\"][0][\"team\"][\"id\"]\n",
    "            return team_id\n",
    "        else:\n",
    "            return None  # Team not found\n",
    "    else:\n",
    "        print(f\"Error: {response.status_code}\")\n",
    "        return None\n",
    "\n",
    "# Usage example:\n",
    "# api_key = \"f27a22f13747e86db3d869c26b306756\"  # Replace with your API key\n",
    "# team_name1 = \"Levski Sofia\"\n",
    "# team_name2 = \"Real Madrid\"\n",
    "# team_id1 = get_team_id_by_name(team_name1, api_key)\n",
    "# team_id2 = get_team_id_by_name(team_name2, api_key)\n",
    "# print(team_id1, team_id2)\n",
    "\n"
   ]
  },
  {
   "cell_type": "code",
   "execution_count": 51,
   "id": "8a4e4405-8b09-4cd5-901c-670573af38f4",
   "metadata": {},
   "outputs": [
    {
     "name": "stdout",
     "output_type": "stream",
     "text": [
      "None\n"
     ]
    }
   ],
   "source": [
    "# Function to get the last 5 matches of a team\n",
    "def get_last_5_matches(api_key, team_id):\n",
    "    url = f\"https://v3.football.api-sports.io/teams?search={team_name}\"\n",
    "\n",
    "    # Headers for the request\n",
    "    headers = {\n",
    "        \"x-rapidapi-key\": api_key,\n",
    "        \"x-rapidapi-host\": \"v3.football.api-sports.io\"\n",
    "    }\n",
    "\n",
    "    # Send request to API\n",
    "    response = requests.get(f'{url}?team={team_id}', headers=headers)\n",
    "\n",
    "    if response.status_code == 200:\n",
    "        # Get the JSON response\n",
    "        matches = response.json()['response']\n",
    "        \n",
    "        # Sort matches by date (from most recent to oldest)\n",
    "        matches.sort(key=lambda x: x['fixture']['date'], reverse=True)\n",
    "        \n",
    "        # Get the last 5 matches\n",
    "        last_5_matches = matches[:5]\n",
    "        \n",
    "        # Display the last 5 matches\n",
    "        for match in last_5_matches:\n",
    "            home_team = match['teams']['home']['name']\n",
    "            away_team = match['teams']['away']['name']\n",
    "            date = match['fixture']['date']\n",
    "            # Determine which team is the home team or away team and get the score\n",
    "            if match['teams']['home']['id'] == team_id:\n",
    "                score = f\"{match['goals']['home']} - {match['goals']['away']}\"\n",
    "            else:\n",
    "                score = f\"{match['goals']['away']} - {match['goals']['home']}\"\n",
    "            \n",
    "            print(f\"{home_team} vs {away_team} - Date: {date} - Score: {score}\")\n",
    "    else:\n",
    "        print(f\"Error fetching data: {response.status_code}\")\n",
    "\n",
    "# Usage example:\n",
    "api_key = \"f27a22f13747e86db3d869c26b306756\"  # Replace with your API key\n",
    "team_name1 = \"Levski Sofia\"\n",
    "team_name2 = \"Real Madrid\"\n",
    "team_id1 = get_team_id_by_name(team_name1, api_key)\n",
    "team_id2 = get_team_id_by_name(team_name2, api_key)\n",
    "print(get_last_5_matches(api_key, team_id2))\n"
   ]
  },
  {
   "cell_type": "code",
   "execution_count": 11,
   "id": "6cacde7a-544d-44e9-8884-0c100db982f5",
   "metadata": {},
   "outputs": [],
   "source": [
    "# Функция за получаване на данни за даден отбор\n",
    "def get_team_data(team_name):\n",
    "    url = f\"https://api.football-data.org/v2/teams/{team_name}\"  # API URL за даден отбор\n",
    "    headers = {\"X-Auth-Token\": \"YOUR_API_KEY\"}  # Заменете с вашия API ключ\n",
    "\n",
    "    response = requests.get(url, headers=headers)\n",
    "\n",
    "    if response.status_code == 200:\n",
    "        team_data = response.json()\n",
    "        # Примерни данни, които можеш да вземеш от отговора на API-то\n",
    "        # Тук взимаме атака и защита (но може да варира в зависимост от структурата на данните)\n",
    "        attack = team_data['squad'][0]['attack']  # Примерен ключ\n",
    "        defense = team_data['squad'][0]['defense']  # Примерен ключ\n",
    "        return attack, defense\n",
    "    else:\n",
    "        return None\n"
   ]
  },
  {
   "cell_type": "code",
   "execution_count": 13,
   "id": "f919e416-4719-4545-8fa9-7adb2162d70f",
   "metadata": {},
   "outputs": [],
   "source": [
    "# Функция за вземане на мачовете между два отбора\n",
    "def get_head_to_head_matches(team1_name, team2_name):\n",
    "    # Заявка за извличане на данни за мачовете между двата отбора\n",
    "    url = f\"https://api.football-data.org/v2/matches\"\n",
    "    headers = {\"X-Auth-Token\": \"YOUR_API_KEY\"}  # Заменете с вашия API ключ\n",
    "\n",
    "    response = requests.get(url, headers=headers)\n",
    "\n",
    "    if response.status_code == 200:\n",
    "        match_data = response.json()\n",
    "        \n",
    "        # Филтриране на мачовете между двата отбора\n",
    "        matches = []\n",
    "        for match in match_data['matches']:\n",
    "            if (match['homeTeam']['name'] == team1_name and match['awayTeam']['name'] == team2_name) or \\\n",
    "               (match['homeTeam']['name'] == team2_name and match['awayTeam']['name'] == team1_name):\n",
    "                matches.append(match)\n",
    "        \n",
    "        return matches\n",
    "    else:\n",
    "        print(\"Error fetching data:\", response.status_code)\n",
    "        return None"
   ]
  },
  {
   "cell_type": "code",
   "execution_count": null,
   "id": "b66b530e-8a3f-491b-bf6c-37115895fc50",
   "metadata": {},
   "outputs": [],
   "source": []
  }
 ],
 "metadata": {
  "kernelspec": {
   "display_name": "Python [conda env:base] *",
   "language": "python",
   "name": "conda-base-py"
  },
  "language_info": {
   "codemirror_mode": {
    "name": "ipython",
    "version": 3
   },
   "file_extension": ".py",
   "mimetype": "text/x-python",
   "name": "python",
   "nbconvert_exporter": "python",
   "pygments_lexer": "ipython3",
   "version": "3.12.7"
  }
 },
 "nbformat": 4,
 "nbformat_minor": 5
}
